{
 "cells": [
  {
   "cell_type": "markdown",
   "metadata": {
    "hideCode": true,
    "hidePrompt": true
   },
   "source": [
    "#Débuts avec python"
   ]
  },
  {
   "cell_type": "markdown",
   "metadata": {
    "hideCode": true,
    "hidePrompt": true
   },
   "source": [
    "On commence par un simple programme de calcul:\n",
    "```\n",
    "Choisir un nombre\n",
    "Le multiplier par 2\n",
    "Ajouter 3 au résultat\n",
    "On obtient un nouveau nombre\n",
    "```\n",
    "qui peut se traduire par l'algorithme en pseudo-code:  \n",
    "(on utilise la flèche ```<-``` comme symbole pour l'affectation d'une variable)\n",
    "```\n",
    "Saisir x\n",
    "a <- 2*x\n",
    "b <- a+3\n",
    "afficher b\n",
    "```\n",
    "Ce qui donne le programme suivant en langage python:"
   ]
  },
  {
   "cell_type": "code",
   "execution_count": null,
   "metadata": {},
   "outputs": [],
   "source": [
    "x=float(input(\"Saisir un nombre \"))  # Voir paragraphe en dessous de ce programme\n",
    "a=2*x     # le signe = est le symbole de l'affectation, pas de l'égalité!\n",
    "b=a+3\n",
    "print(b) # Affichage de la valeur de la variable b"
   ]
  },
  {
   "cell_type": "markdown",
   "metadata": {},
   "source": [
    "Exécutez le programme précédent et tester le avec différents nombres (n'hésitez pas à vérifier les calculs mentalement).\n",
    "\n",
    "```input``` est l'instruction python pour saisir et elle renvoie une *chaine de caractère*. Le message entre guillemets est optionnel.  \n",
    "Pour convertir cette chaine (*string* en python) en nombre décimal on utilise l'instruction ```float``` (si on souhaite un nombre entier on utilisera ```int```). Le nombre saisi est ici affecté (avec le ```=```) à la **variable** ```x```.  \n",
    "La variable ```a``` prend la valeur de la variable ```x``` multipliée par 2.  \n",
    "La variable ```b``` prend ensuite la valeur de la variable ```a``` à laquelle on ajoute 3 et contient donc le résultat du programme de calcul qui est affiché avec l'instruction ```print```\n",
    "\n",
    "On a utilisé deux variables ```a``` et ```b``` mais on aurait pu se contenter d'une seule en remplaçant l'intruction ```b=a+3``` par ```a=a+3```. En effet c'est d'abord le calcul a+3 qui est évalué à l'aide de la valeur de la variable ```a``` puis le résultat est stocké dans la variable ```a```. Ce qui donnerait:\n",
    "```python\n",
    "x=float(input(\"Saisir un nombre \"))\n",
    "a=2*x \n",
    "a=a+3\n",
    "print(a)\n",
    "```\n",
    "\n",
    "Les phrases après # sont des **commentaires** et ne sont pas interprétées par python lors de l'exécution du programme, ce qui provoquerait des erreurs. Enlevez un # pour tester et réexécuter le programme (n'oubliez pas de le remettre ensuite).  \n",
    "Les commentaires sont très utiles pour relire ou comprendre un programme, que ce soit par la personne qui a écrit le programme ou une autre. Il est recommandé de les utiliser, pensez-y!"
   ]
  },
  {
   "cell_type": "markdown",
   "metadata": {},
   "source": [
    "Revenons à notre programme de calcul :  \n",
    "Si on appelle $x$ le nombre de départ alors le résultat peut s'écrire $2\\times x+3$. On a donc définie une fonction (mathématiques) dont l'expression est $f(x)=2x+3$.\n",
    "\n",
    "0n peut définir cette fonction en python à l'aide de l'instruction ```def```:"
   ]
  },
  {
   "cell_type": "code",
   "execution_count": null,
   "metadata": {},
   "outputs": [],
   "source": [
    "def f(x):\n",
    "    y=2*x+3\n",
    "    return y   # pour renvoyer le résultat"
   ]
  },
  {
   "cell_type": "markdown",
   "metadata": {},
   "source": [
    "On a cette fois une **fonction** informatique de nom ```f``` avec **un paramètre** (entre parenthèses), ici ```x```.  \n",
    "La ligne du ```def``` doit obligatoirement finir par ```:``` (pour créer le bloc de la fonction). Les instructions de la fonction sont décalées vers la droite, ce qui s'appelle l'**indentation**.\n",
    "```\n",
    "def nom_fonction(parametres_de_la_fonction):\n",
    "     instructions de la fonction  (indentées vers la droite)\n",
    "     \n",
    "suite du programme (plus d'indentation, réaligné à gauche)\n",
    "```\n",
    "\n",
    "\n",
    "Exécutez la cellule qui définie la fonction ```f```. À priori rien ne se passe mais la fonction a bien été interprétée et est prête à être utilisée.  \n",
    "Pour le faire, tapez par exemple l'instruction ```f(0)``` dans la cellule ci-dessous qui va appeler la fonction ```f``` avec comme valeur de son paramètre le nombre ```0``` et exécutez là (cela reviendrait en mathématiques à remplacer $x$ par $0$ dans l'expresson de $f$, c'est à dire calculer l'image de $0$ par $f$)."
   ]
  },
  {
   "cell_type": "code",
   "execution_count": null,
   "metadata": {},
   "outputs": [],
   "source": []
  },
  {
   "cell_type": "markdown",
   "metadata": {},
   "source": [
    "(vous pouvez tester avec d'autres valeurs du paramètre ```x``` )\n",
    "\n",
    "Pour voir l'avantage de définir une fonction plutôt que le premier programme avec ```input```, regardons l'exemple suivant:  \n",
    "On souhaite afficher les résultats du programme de calcul pour les nombres entiers de 0 à 100. Avec le premier programme il faudrait saisir un à un chaque entier (et il y en a 101 !) alors qu'avec notre fonction il suffit par exemple d'écrire: "
   ]
  },
  {
   "cell_type": "code",
   "execution_count": null,
   "metadata": {},
   "outputs": [],
   "source": [
    "for x in range(101):   # Oh une boucle ! On y reviendra dans un autre cours.\n",
    "    print(x,f(x))      # Affiche x et le résultat correspondant"
   ]
  },
  {
   "cell_type": "markdown",
   "metadata": {},
   "source": [
    "Exécutez cette cellule. Plus rapide n'est ce pas ?!\n",
    "\n",
    "En programmation python, nous utiliserons le plus souvent les fonctions.\n",
    "\n",
    "Une fonction peut:\n",
    "- ne renvoyer aucun résultat et afficher un texte par exemple:"
   ]
  },
  {
   "cell_type": "code",
   "execution_count": null,
   "metadata": {},
   "outputs": [],
   "source": [
    "def bonjour(prenom):\n",
    "    print(\"Bonjour\",prenom)\n",
    "    \n",
    "bonjour()   # Mettez votre prénom, entre guillemets car c'est une chaine de caractère, comme valeur du paramètre dans les parenthèses puis exécutez le programme"
   ]
  },
  {
   "cell_type": "markdown",
   "metadata": {},
   "source": [
    "(si vous n'avez rien fait à la cellule précédente ou obtenez une erreur, pensez à bien lire le commentaire du programme !)\n",
    "\n",
    "- avoir plusieurs paramètres (2, 3 ou plus) séparés alors par une virgule:"
   ]
  },
  {
   "cell_type": "code",
   "execution_count": null,
   "metadata": {},
   "outputs": [],
   "source": [
    "def bonjour2(prenom,nom):\n",
    "    print(\"Bonjour\",prenom,nom)\n",
    "    \n",
    "bonjour2(,)   # Mettez vos prénom et nom puis exécutez le programme"
   ]
  },
  {
   "cell_type": "markdown",
   "metadata": {},
   "source": [
    "- ou en avoir aucun (parenthèses vide dans ce cas):"
   ]
  },
  {
   "cell_type": "code",
   "execution_count": null,
   "metadata": {},
   "outputs": [],
   "source": [
    "def hello_world():\n",
    "    print(\"Hello world ! depuis python\")\n",
    "    \n",
    "hello_world()   # Exécutez le programme   "
   ]
  },
  {
   "cell_type": "markdown",
   "metadata": {},
   "source": [
    "Pour finir une différence majeure : ```return``` ou ```print``` ?  \n",
    "On utilisera principalement le premier sauf fonctions particulières: il permet de renvoyer une valeur (nombre, chaine de caractères, ...) qui peut être affichée mais surtout utilisée dans la suite du programme.\n",
    "\n",
    "On rappelle que pour définir la fonction f on a écrit:\n",
    "```python\n",
    "def f(x):\n",
    "    y=2*x+3\n",
    "    return y\n",
    "```\n",
    "Définissons la même fonction mais en utilisant l'instruction ```print``` cette fois:"
   ]
  },
  {
   "cell_type": "code",
   "execution_count": null,
   "metadata": {},
   "outputs": [],
   "source": [
    "def f2(x):\n",
    "    y=2*x+3\n",
    "    print(y)"
   ]
  },
  {
   "cell_type": "code",
   "execution_count": null,
   "metadata": {},
   "outputs": [],
   "source": [
    "f(1.5)"
   ]
  },
  {
   "cell_type": "code",
   "execution_count": null,
   "metadata": {},
   "outputs": [],
   "source": [
    "f2(1.5)"
   ]
  },
  {
   "cell_type": "markdown",
   "metadata": {},
   "source": [
    "Exécutez dans l'ordre les 3 cellules ci dessus.  \n",
    "Pas de différence semble-t-il ! Mais:"
   ]
  },
  {
   "cell_type": "code",
   "execution_count": null,
   "metadata": {},
   "outputs": [],
   "source": [
    "a=5*f(1.5)\n",
    "print(a)"
   ]
  },
  {
   "cell_type": "code",
   "execution_count": null,
   "metadata": {},
   "outputs": [],
   "source": [
    "a=5*f2(1.5)\n",
    "print(a)"
   ]
  },
  {
   "cell_type": "markdown",
   "metadata": {},
   "source": [
    "Si on exécute les deux cellules précédentes, on obtient une erreur dans le second cas. ```f2(1.5)``` nous a bien affiché 6 mais ce 6 n'est pas reconnu par la suite du programme d'où l'erreur pour la multiplication avec ```*```.  \n",
    "Ce qui n'arrive pas avec ```f(1.5)``` qui renvoie bien un résultat utilisable (ici le nombre 6)."
   ]
  }
 ],
 "metadata": {
  "hide_code_all_hidden": true,
  "kernelspec": {
   "display_name": "Python 3",
   "language": "python",
   "name": "python3"
  },
  "language_info": {
   "codemirror_mode": {
    "name": "ipython",
    "version": 3
   },
   "file_extension": ".py",
   "mimetype": "text/x-python",
   "name": "python",
   "nbconvert_exporter": "python",
   "pygments_lexer": "ipython3",
   "version": "3.6.1"
  }
 },
 "nbformat": 4,
 "nbformat_minor": 2
}
