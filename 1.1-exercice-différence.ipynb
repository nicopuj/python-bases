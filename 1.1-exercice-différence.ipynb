{
 "cells": [
  {
   "cell_type": "markdown",
   "metadata": {
    "hideCode": true
   },
   "source": [
    "#Exercice : Différence de deux nombres\n",
    "\n",
    "##Partie 1\n",
    "\n",
    "**On considère l'algorithme ci-dessous écrit en pseudo-code :**\n",
    "```   \n",
    "a <- 3\n",
    "b <- 7\n",
    "c <- b-a\n",
    "Afficher c\n",
    "```\n",
    "Traduisez l'algorithme ci-dessus en langage python dans la cellule ci-dessous et exécutez le programme.  \n",
    "Le résultat affiché est bien sûr égal à ... (corrigez éventuellement s'il y a une erreur ou si le résultat affiché n'est pas le bon)"
   ]
  },
  {
   "cell_type": "code",
   "execution_count": null,
   "metadata": {},
   "outputs": [],
   "source": []
  },
  {
   "cell_type": "markdown",
   "metadata": {},
   "source": [
    "##Partie 2\n",
    "\n",
    "**Le but de l'exercice est d'écrire une fonction qui, étant donné deux nombres a et b en paramètres, calcule et renvoie la différence de b et a.**\n",
    "\n",
    "\n",
    "Exécutez la cellule ci-dessous pour commencer l'exercice et afficher des exemples de résultats attendus."
   ]
  },
  {
   "cell_type": "code",
   "execution_count": null,
   "metadata": {},
   "outputs": [],
   "source": [
    "from py.difference import exo_difference\n",
    "\n",
    "exo_difference.example(2)"
   ]
  },
  {
   "cell_type": "markdown",
   "metadata": {},
   "source": [
    "Complétez la fonction *difference* ci-dessous pour qu'elle réponde au problème posé (effacez et remplacez les *#à compléter*)."
   ]
  },
  {
   "cell_type": "code",
   "execution_count": null,
   "metadata": {},
   "outputs": [],
   "source": [
    "def difference(a,b):\n",
    "    resultat=#à compléter\n",
    "    return #à compléter"
   ]
  },
  {
   "cell_type": "markdown",
   "metadata": {},
   "source": [
    "Vous pouvez utiliser la cellule ci-dessous pour tester votre fonction avec des valeurs de votre choix avant la correction (n'oubliez pas d'exécuter d'abord la cellule contenant votre fonction pour pouvoir l'utiliser)."
   ]
  },
  {
   "cell_type": "code",
   "execution_count": null,
   "metadata": {},
   "outputs": [],
   "source": []
  },
  {
   "cell_type": "markdown",
   "metadata": {},
   "source": [
    "Exécutez la cellule ci-dessous pour comparer les résultats de votre fonction avec les résultats attendus. Vous avez bon quand tout est au vert (que des OK, pas de KO).  \n",
    "Si besoin, corrigez votre fonction et relancez la vérification tant qu'il reste des résultats non attendus. "
   ]
  },
  {
   "cell_type": "code",
   "execution_count": null,
   "metadata": {},
   "outputs": [],
   "source": [
    "exo_difference.correction(difference)"
   ]
  }
 ],
 "metadata": {
  "kernelspec": {
   "display_name": "Python 3",
   "language": "python",
   "name": "python3"
  },
  "language_info": {
   "codemirror_mode": {
    "name": "ipython",
    "version": 3
   },
   "file_extension": ".py",
   "mimetype": "text/x-python",
   "name": "python",
   "nbconvert_exporter": "python",
   "pygments_lexer": "ipython3",
   "version": "3.6.1"
  }
 },
 "nbformat": 4,
 "nbformat_minor": 2
}
