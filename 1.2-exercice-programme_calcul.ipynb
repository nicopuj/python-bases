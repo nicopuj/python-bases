{
 "cells": [
  {
   "cell_type": "markdown",
   "metadata": {},
   "source": [
    "#Exercice : Programme de calcul\n",
    "\n",
    "**On considère le programme de calcul ci-dessous:**\n",
    "```   \n",
    "Choisir un nombre   \n",
    "Lui enlever 2\n",
    "Multiplier le résultat par 3\n",
    "Diviser ce produit par 5\n",
    "```\n",
    "**Le but de l'exercice est d'écrire une fonction qui, étant donné le nombre x choisi au départ en paramètre, calcule et renvoie le résultat obtenu à la fin de ce programme de calcul.**\n",
    "\n",
    "\n",
    "Exécutez la cellule ci-dessous pour commencer l'exercice et afficher des exemples de résultats attendus."
   ]
  },
  {
   "cell_type": "code",
   "execution_count": null,
   "metadata": {},
   "outputs": [],
   "source": [
    "from py.programme_calcul import exo_calcul\n",
    "\n",
    "exo_calcul.example(2)"
   ]
  },
  {
   "cell_type": "markdown",
   "metadata": {},
   "source": [
    "Complétez la fonction *calcul* ci-dessous pour qu'elle réponde au problème posé (effacez et remplacez les *#à compléter* ; vous pouvez rajouter des lignes au programme pour décomposer les calculs)."
   ]
  },
  {
   "cell_type": "code",
   "execution_count": null,
   "metadata": {},
   "outputs": [],
   "source": [
    "def calcul(x):\n",
    "    #rajouter éventuellement des lignes ici\n",
    "    resultat=#à compléter\n",
    "    return #à compléter"
   ]
  },
  {
   "cell_type": "markdown",
   "metadata": {},
   "source": [
    "Vous pouvez utiliser la cellule ci-dessous pour tester votre fonction avec des valeurs de votre choix avant la correction (n'oubliez pas d'exécuter d'abord la cellule contenant votre fonction pour pouvoir l'utiliser)."
   ]
  },
  {
   "cell_type": "code",
   "execution_count": null,
   "metadata": {},
   "outputs": [],
   "source": []
  },
  {
   "cell_type": "markdown",
   "metadata": {},
   "source": [
    "Exécutez la cellule ci-dessous pour comparer les résultats de votre fonction avec les résultats attendus. Vous avez bon quand tout est au vert (que des OK, pas de KO).  \n",
    "Si besoin, corrigez votre fonction et relancez la vérification tant qu'il reste des résultats non attendus. "
   ]
  },
  {
   "cell_type": "code",
   "execution_count": null,
   "metadata": {},
   "outputs": [],
   "source": [
    "exo_calcul.correction(calcul)"
   ]
  },
  {
   "cell_type": "markdown",
   "metadata": {},
   "source": [
    "##Défi !\n",
    "\n",
    "Si vous avez rajouté des lignes dans la fonction *calcul*, essayez de la réécrire avec une seule ligne de la forme ```resultat=un_seul_calcul``` avant le ```return```. N'oubliez pas de valider votre nouvelle fonction avec la cellule de correction.\n",
    "\n",
    "Si vous avez déjà écrit la fonction *calcul* sans rajouter de lignes, BRAVO vous avez réussi le défi !"
   ]
  }
 ],
 "metadata": {
  "kernelspec": {
   "display_name": "Python 3",
   "language": "python",
   "name": "python3"
  },
  "language_info": {
   "codemirror_mode": {
    "name": "ipython",
    "version": 3
   },
   "file_extension": ".py",
   "mimetype": "text/x-python",
   "name": "python",
   "nbconvert_exporter": "python",
   "pygments_lexer": "ipython3",
   "version": "3.6.1"
  }
 },
 "nbformat": 4,
 "nbformat_minor": 2
}
