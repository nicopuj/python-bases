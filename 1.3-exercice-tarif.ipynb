{
 "cells": [
  {
   "cell_type": "markdown",
   "metadata": {},
   "source": [
    "# Exercice : Calculer un tarif\n",
    "\n",
    "**Une piscine municipale propose une carte d'abonnement à 30 € qui donne droit à un tarif réduit de 3,50 € par entrée.**  \n",
    "**Le but de l'exercice est d'écrire une fonction qui, étant donné le nombre n d'entrées en paramètre, calcule et renvoie le prix à payer par un abonné.**\n",
    "\n",
    "Exécutez la cellule ci-dessous pour commencer l'exercice et afficher des exemples de résultats attendus."
   ]
  },
  {
   "cell_type": "code",
   "execution_count": null,
   "metadata": {},
   "outputs": [],
   "source": [
    "from py.tarif import exo_tarif\n",
    "\n",
    "exo_tarif.example(3)"
   ]
  },
  {
   "cell_type": "markdown",
   "metadata": {},
   "source": [
    "Complétez la fonction *tarif* ci-dessous pour qu'elle réponde au problème posé."
   ]
  },
  {
   "cell_type": "code",
   "execution_count": null,
   "metadata": {},
   "outputs": [],
   "source": [
    "def tarif(n):\n",
    "    #à compléter"
   ]
  },
  {
   "cell_type": "markdown",
   "metadata": {},
   "source": [
    "Vous pouvez utiliser la cellule ci-dessous pour tester votre fonction avec des valeurs de votre choix avant la correction (n'oubliez pas d'exécuter d'abord la cellule contenant votre fonction pour pouvoir l'utiliser)."
   ]
  },
  {
   "cell_type": "code",
   "execution_count": null,
   "metadata": {},
   "outputs": [],
   "source": []
  },
  {
   "cell_type": "markdown",
   "metadata": {},
   "source": [
    "Exécutez la cellule ci-dessous pour comparer les résultats de votre fonction avec les résultats attendus. Vous avez bon quand tout est au vert (que des OK, pas de KO).  \n",
    "Si besoin, corrigez votre fonction et relancez la vérification tant qu'il reste des résultats non attendus. "
   ]
  },
  {
   "cell_type": "code",
   "execution_count": null,
   "metadata": {},
   "outputs": [],
   "source": [
    "exo_tarif.correction(tarif)"
   ]
  }
 ],
 "metadata": {
  "kernelspec": {
   "display_name": "Python 3",
   "language": "python",
   "name": "python3"
  },
  "language_info": {
   "codemirror_mode": {
    "name": "ipython",
    "version": 3
   },
   "file_extension": ".py",
   "mimetype": "text/x-python",
   "name": "python",
   "nbconvert_exporter": "python",
   "pygments_lexer": "ipython3",
   "version": "3.6.1"
  }
 },
 "nbformat": 4,
 "nbformat_minor": 2
}
