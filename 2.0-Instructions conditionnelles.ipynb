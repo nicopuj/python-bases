{
 "cells": [
  {
   "cell_type": "markdown",
   "metadata": {},
   "source": [
    "#Instructions conditionnelles\n",
    "\n",
    "Lorsque que l'on souhaite exécuter une ou plusieurs instructions seulement lorsqu'une certaine condition est vraie, on utilise l'instruction **Si**, ce qui peut s'écrire en pseudo-code :\n",
    "```\n",
    "Si condition\n",
    "    instructions si condition vraie\n",
    "Fin Si\n",
    "```\n",
    "En python, cette instruction se traduit par ```if``` "
   ]
  },
  {
   "cell_type": "code",
   "execution_count": null,
   "metadata": {},
   "outputs": [],
   "source": [
    "def permis(age):\n",
    "    if age>=18:  \n",
    "        return \"en âge pour permis de conduire\"\n",
    "\n",
    "permis()   #compléter avec un âge"
   ]
  },
  {
   "cell_type": "markdown",
   "metadata": {},
   "source": [
    "Complétez le programme ci-dessus avec l'âge que vous voulez en paramètre de la fonction *permis* et exécutez le.  \n",
    "Selon l'âge que vous avez choisi, si la condition ```age>=18``` (>= pour $\\geqslant$) est vraie alors la chaîne de caractères \"en âge pour permis de conduire\" est renvoyée mais si elle est fausse (c'est à dire pour un âge<18) rien n'est renvoyé (vérifiez avec d'autres âges).\n",
    "\n",
    "On peut donc vouloir exécuter des instructions dans le cas où la condition est fausse, on rajoute dans ce cas une instruction **Sinon** :\n",
    "```\n",
    "Si condition\n",
    "    instructions si condition vraie\n",
    "Sinon\n",
    "    instructions si condition fausse\n",
    "Fin Si\n",
    "```\n",
    "En python, cela se traduit par un ```else``` "
   ]
  },
  {
   "cell_type": "code",
   "execution_count": null,
   "metadata": {},
   "outputs": [],
   "source": [
    "def permis2(age):\n",
    "    if age>=18:     \n",
    "        message=\"en âge pour permis de conduire\"\n",
    "    else:\n",
    "        message=\"trop jeune pour permis de conduire\"\n",
    "    return message\n",
    "\n",
    "permis2()   #compléter avec un âge"
   ]
  },
  {
   "cell_type": "markdown",
   "metadata": {},
   "source": [
    "Exécutez plusieurs fois le programme ci-dessus avec des âges différents afin de visualiser tous les affichages possibles.\n",
    "\n",
    "Comme pour les fonctions, les lignes du ```if``` et du ```else``` doivent finir par ```:``` et les instructions à exécuter dans chaque cas doivent être décalées vers la droite (indentation).\n",
    "\n",
    "On peut aussi être amené à tester d'autres conditions si la première est fausse. Par exemple avec une seconde condition:\n",
    "```\n",
    "Si condition1\n",
    "    instructions si condition1 vraie\n",
    "Sinon\n",
    "    Si condition 2\n",
    "        instructions si condition2 vraie    (et donc condition1 fausse)\n",
    "    Sinon\n",
    "        instructions si condition2 fausse   (les deux conditions sont donc fausses)\n",
    "    Fin Si\n",
    "Fin Si\n",
    "```\n",
    "En python, pour programmer un tel algorithme, plutôt que d'enchaîner les Si (```if```) on utilise l'instruction ```elif``` (contraction de *else if*)"
   ]
  },
  {
   "cell_type": "code",
   "execution_count": null,
   "metadata": {},
   "outputs": [],
   "source": [
    "def permis3(age):\n",
    "    if age>=18:     \n",
    "        message=\"en âge pour permis de conduire\"\n",
    "    elif age>=16:\n",
    "        message=\"en âge pour conduite accompagnée\"\n",
    "    else:\n",
    "        message=\"trop jeune pour conduire\"\n",
    "    return message\n",
    "\n",
    "permis3()   #compléter avec un âge"
   ]
  },
  {
   "cell_type": "markdown",
   "metadata": {},
   "source": [
    "Exécutez plusieurs fois le programme ci-dessus avec des âges différents afin de visualiser tous les affichages possibles.\n",
    "\n",
    "Pour les âges entre 16 (compris) et 18 (non compris), la chaîne de caractères \"en âge pour conduite accompagnée\" est renvoyée. En effet la première condition (```age>=18```) étant fausse, le programme teste la deuxième (```age>=16```) qui est vraie dans ce cas.  \n",
    "Si les deux conditions sont fausses (pour des âges<16), c'est la chaîne de caractères \"trop jeune pour conduire\" qui est renvoyée.\n",
    "\n",
    "Faites bien attention à l'ordre des conditions : c'est la première qui est testée en premier, puis la deuxième si la première est fausse, puis la troisième si la deuxième est fausse, etc.  \n",
    "Dans notre fonction *permis3*, si on teste en premier la condition ```age>=16``` et qu'elle est vraie alors on ne teste pas la suite, si elle est fausse alors la condition ```age>=18``` placée après sera aussi forcément fausse et donc ce test devient inutile.  \n",
    "Testez le programme suivant avec des âges différents :"
   ]
  },
  {
   "cell_type": "code",
   "execution_count": null,
   "metadata": {},
   "outputs": [],
   "source": [
    "def permis4(age):\n",
    "    if age>=16:     \n",
    "        message=\"en âge pour conduite accompagnée\"\n",
    "    elif age>=18:\n",
    "        message=\"en âge pour permis de conduire\"\n",
    "    else:\n",
    "        message=\"trop jeune pour conduire\"\n",
    "    return message\n",
    "\n",
    "permis4()   #compléter avec un âge"
   ]
  },
  {
   "cell_type": "markdown",
   "metadata": {},
   "source": [
    "La chaîne de caractères \"en âge pour permis de conduire\" n'est jamais renvoyée !"
   ]
  }
 ],
 "metadata": {
  "kernelspec": {
   "display_name": "Python 3",
   "language": "python",
   "name": "python3"
  },
  "language_info": {
   "codemirror_mode": {
    "name": "ipython",
    "version": 3
   },
   "file_extension": ".py",
   "mimetype": "text/x-python",
   "name": "python",
   "nbconvert_exporter": "python",
   "pygments_lexer": "ipython3",
   "version": "3.6.1"
  }
 },
 "nbformat": 4,
 "nbformat_minor": 2
}
