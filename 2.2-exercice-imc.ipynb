{
 "cells": [
  {
   "cell_type": "markdown",
   "metadata": {},
   "source": [
    "# Exercice : IMC\n",
    "\n",
    "**On mesure l’obésité grâce à l’aide de l’Indice de Masse Corporelle (IMC), noté I, évalué à partir du poids P\n",
    "(en kg) et de la taille T (en m) d’un individu :**\n",
    "$$I=\\frac{P}{T^2}$$\n",
    "**I s’exprime donc en kg/m<sup>2</sup> et est une fonction de deux variables P et T.  \n",
    "Suivant une classification établie par l’Organisation Mondiale de la Santé (OMS), un individu est en surpoids lorsque I > 25.**  \n",
    "**Le but de l'exercice est d'écrire une fonction *imc* de paramètres P et T qui calcule l’indice I et renvoie si\n",
    "l’individu est en surpoids ou non.**\n",
    "\n",
    "Exécutez la cellule ci-dessous pour commencer l'exercice et afficher des exemples de résultats attendus."
   ]
  },
  {
   "cell_type": "code",
   "execution_count": null,
   "metadata": {},
   "outputs": [],
   "source": [
    "from py.imc import exo_imc\n",
    "\n",
    "exo_imc.example(2)"
   ]
  },
  {
   "cell_type": "markdown",
   "metadata": {},
   "source": [
    "Complétez la fonction *imc* ci-dessous pour qu'elle réponde au problème posé. Utilisez ```return``` (pas de ```print``` !!) pour renvoyer vos messages (**voir les exemples pour la formulation à respecter sans fautes ni modifications**)."
   ]
  },
  {
   "cell_type": "code",
   "execution_count": null,
   "metadata": {},
   "outputs": [],
   "source": [
    "def imc(P,T):\n",
    "    #à compléter"
   ]
  },
  {
   "cell_type": "markdown",
   "metadata": {},
   "source": [
    "Vous pouvez utiliser la cellule ci-dessous pour tester votre fonction avec des valeurs de votre choix avant la correction (n'oubliez pas d'exécuter d'abord la cellule contenant votre fonction pour pouvoir l'utiliser)."
   ]
  },
  {
   "cell_type": "code",
   "execution_count": null,
   "metadata": {},
   "outputs": [],
   "source": []
  },
  {
   "cell_type": "markdown",
   "metadata": {},
   "source": [
    "Exécutez la cellule ci-dessous pour comparer les résultats de votre fonction avec les résultats attendus. Vous avez bon quand tout est au vert (que des OK, pas de KO).  \n",
    "Si besoin, corrigez votre fonction et relancez la vérification tant qu'il reste des résultats non attendus (si c'est le cas, comparez en premier messages attendus et obtenus pour écarter toute erreur d'orthographe). "
   ]
  },
  {
   "cell_type": "code",
   "execution_count": null,
   "metadata": {},
   "outputs": [],
   "source": [
    "exo_imc.correction(imc)"
   ]
  },
  {
   "cell_type": "markdown",
   "metadata": {},
   "source": [
    "## Prolongement\n",
    "\n",
    "**Suivant la classification de l’OMS, un individu est en état de maigreur si I < 18,5.  \n",
    "On souhaite modifier la fonction précédente pour qu'elle considère ce cas.**\n",
    "\n",
    "Exécutez la cellule ci-dessous pour afficher des exemples de résultats attendus par cette nouvelle fonction."
   ]
  },
  {
   "cell_type": "code",
   "execution_count": null,
   "metadata": {},
   "outputs": [],
   "source": [
    "from py.imc import exo_imc2\n",
    "\n",
    "exo_imc2.example(3)"
   ]
  },
  {
   "cell_type": "markdown",
   "metadata": {},
   "source": [
    "Modifiez la fonction précédente par une nouvelle fonction *imc2* qui renvoie aussi si l'individu est en état de maigreur (**respecter les messages de l'exemple, pas de** ```print```)."
   ]
  },
  {
   "cell_type": "code",
   "execution_count": null,
   "metadata": {},
   "outputs": [],
   "source": [
    "def imc2(P,T):\n",
    "    #à compléter"
   ]
  },
  {
   "cell_type": "markdown",
   "metadata": {},
   "source": [
    "Vous pouvez utiliser la cellule ci-dessous pour tester votre fonction avec des valeurs de votre choix avant la correction (n'oubliez pas d'exécuter d'abord la cellule contenant votre fonction pour pouvoir l'utiliser)."
   ]
  },
  {
   "cell_type": "code",
   "execution_count": null,
   "metadata": {},
   "outputs": [],
   "source": []
  },
  {
   "cell_type": "markdown",
   "metadata": {},
   "source": [
    "Exécutez la cellule ci-dessous pour comparer les résultats de votre fonction avec les résultats attendus. Vous avez bon quand tout est au vert (que des OK, pas de KO).  \n",
    "Si besoin, corrigez votre fonction et relancez la vérification tant qu'il reste des résultats non attendus (si c'est le cas, comparez en premier messages attendus et obtenus pour écarter toute erreur d'orthographe). "
   ]
  },
  {
   "cell_type": "code",
   "execution_count": null,
   "metadata": {},
   "outputs": [],
   "source": [
    "exo_imc2.correction(imc2)"
   ]
  }
 ],
 "metadata": {
  "kernelspec": {
   "display_name": "Python 3",
   "language": "python",
   "name": "python3"
  },
  "language_info": {
   "codemirror_mode": {
    "name": "ipython",
    "version": 3
   },
   "file_extension": ".py",
   "mimetype": "text/x-python",
   "name": "python",
   "nbconvert_exporter": "python",
   "pygments_lexer": "ipython3",
   "version": "3.6.1"
  }
 },
 "nbformat": 4,
 "nbformat_minor": 2
}
