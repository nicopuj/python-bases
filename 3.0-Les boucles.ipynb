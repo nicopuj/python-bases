{
 "cells": [
  {
   "cell_type": "markdown",
   "metadata": {},
   "source": [
    "#les boucles en python\n",
    "\n",
    "Les boucles servent à répéter une ou plusieurs instructions *un certain nombre de fois*."
   ]
  },
  {
   "cell_type": "markdown",
   "metadata": {},
   "source": [
    "##Les boucles dites bornées\n",
    "\n",
    "C'est lorsque l'on connait à l'avance le nombre de répétitions. On utilise dans ce cas une boucle **Pour**, ce qui peut s'écrire en pseudo-code :\n",
    "```\n",
    "Pour variable_compteur allant de ... à ...\n",
    "     instructions à répéter\n",
    "Fin Pour\n",
    "```\n",
    "On utilise une variable dite *compteur de boucle*, que l'on peut nommer comme on le souhaite, qui est par défaut augmenté de 1 à chaque fois.  \n",
    "Si par exemple on veut répéter 10 fois, on pourra écrire :\n",
    "```\n",
    "Pour variable_compteur allant de 0 à 9\n",
    "```\n",
    "ou\n",
    "```\n",
    "Pour variable_compteur allant de 1 à 10\n",
    "```\n",
    "En python, cette boucle se traduit par ```for```  "
   ]
  },
  {
   "cell_type": "code",
   "execution_count": null,
   "metadata": {},
   "outputs": [],
   "source": [
    "#Faire écrire à sa place les 50 lignes données par le professeur\n",
    "def punition():\n",
    "    for k in range(50):    # répétition 50 fois, k est la variable_compteur\n",
    "        print(\"Je dois être sage en classe\")\n",
    "        \n",
    "punition()"
   ]
  },
  {
   "cell_type": "markdown",
   "metadata": {},
   "source": [
    "Exécutez le programme ci-dessus où est définie et exécutée la fonction *punition* qui affiche 50 fois la chaîne de caractère \"Je dois être sage en classe\".\n",
    "\n",
    "Comme pour les fonctions, la ligne du ```for``` doit finir par ```:``` et les instructions de la boucle doivent être décalées vers la droite (indentation).\n",
    "\n",
    "La variable_compteur sert à compter le nombre de répétitions mais peut aussi s'utiliser dans les instructions de la boucle, pour des calculs par exemple.  \n",
    "Si on veut afficher la table de multiplication de 7, on pourra écrire l'algorithme en pseudo-code :\n",
    "```\n",
    "Fonction table7()\n",
    "    Pour k allant de 1 à 10\n",
    "        m <- 7*k\n",
    "        Afficher m\n",
    "    Fin Pour\n",
    "Fin Fonction\n",
    "```\n",
    "Et sa traduction en python:"
   ]
  },
  {
   "cell_type": "code",
   "execution_count": null,
   "metadata": {},
   "outputs": [],
   "source": [
    "def table7():\n",
    "    for k in range(1,11):\n",
    "        m=7*k\n",
    "        print(\"7\",\"*\",k,\"=\",m)\n",
    "        \n",
    "table7()"
   ]
  },
  {
   "cell_type": "markdown",
   "metadata": {},
   "source": [
    "Exécutez ce programme.  \n",
    "On constate que l'appel à la fonction ```table7()``` (dernière ligne) affiche bien la table de 7, de 7\\*1 à 7\\*10. C'est ici ```range(1,11)``` qui fait varier k de 1 à 10.\n",
    "\n",
    "Attention à l'instruction ```range``` : k varie jusqu'à 10 mais on écrit 11.\n",
    "\n",
    "De même:\n",
    "- ```k in range(0,10)``` fera varier k de 0 à 9. On l'écrira plus simplement ```k in range(10)```\n",
    "- ```k in range(17)``` fera donc varier k de 0 à 16\n",
    "- ```k in range(4,17)``` fera varier k de 4 à 16\n",
    "- si on veut que k n'augmente pas de 1 mais de 2 à chaque fois, on écrira ```k in range(4,17,2)``` qui fera varier k de 4 à 16 de 2 en 2. k prendra donc successivement les valeurs 4, 6, 8, 10, 12, 14, 16.\n",
    "- on peut aussi utiliser une variable (à condition qu'elle contienne un nombre entier) : ```k in range(1,a)``` fera varier k de 1 à a-1 (la valeur de la variable a à laquelle on enlève 1). Si on veut que k varie de 1 à a, on écrira ```k in range(1,a+1)```."
   ]
  },
  {
   "cell_type": "markdown",
   "metadata": {},
   "source": [
    "Une application classique de la boucle Pour est le calcul de la somme d'entiers:"
   ]
  },
  {
   "cell_type": "code",
   "execution_count": null,
   "metadata": {},
   "outputs": [],
   "source": [
    "# fonction qui calcule et renvoie la somme des entiers de 10 à 20\n",
    "def somme1020():\n",
    "    s=0    # on initialise s à 0\n",
    "    for k in range(,):    # à compléter\n",
    "        s=s+k    # on rajoute à s l'entier k et on stocke cette nouvelle valeur dans la variable s  \n",
    "    return s   # la boucle finie, on renvoie s qui contient la somme recherchée\n",
    "\n",
    "print(somme1020())"
   ]
  },
  {
   "cell_type": "markdown",
   "metadata": {},
   "source": [
    "Complétez le ```range``` de la 4ème ligne pour que la fonction *somme1020* renvoie bien la somme demandée en commentaire puis exécutez le programme.  \n",
    "Vérifiez le résultat obtenu en calculant cette somme à la main. Modifiez votre programme si nécessaire pour obtenir le bon résultat.\n",
    "\n",
    "Faites de même avec la fonction *somme* ci-dessous qui étant donnés deux nombres entiers m et n en paramètres, renvoie la somme des entiers de m à n. Modifiez votre programme si ```somme(10,20)``` ne renvoie pas le même résultat (juste et vérifié par vos soins) que la fonction ```somme1020()``` ci-dessus. ```somme(1,100)``` doit renvoyer 5050."
   ]
  },
  {
   "cell_type": "code",
   "execution_count": null,
   "metadata": {},
   "outputs": [],
   "source": [
    "# fonction qui calcule et renvoie la somme des entiers de m à n\n",
    "def somme(m,n):\n",
    "    s=0\n",
    "    for k in range(,):      # à compléter\n",
    "        s=s+k\n",
    "    return s\n",
    "\n",
    "print(somme(10,20))\n",
    "print(somme(1,100))"
   ]
  },
  {
   "cell_type": "markdown",
   "metadata": {},
   "source": [
    "##Les boucles dites non bornées\n",
    "\n",
    "C'est lorsque l'on ne connait pas à l'avance le nombre de répétitions (ou que cela nécessite un calcul long ou que l'on ne souhaite pas faire). On va donc répéter une série d'instructions tant qu'une certaine condition est vraie. C'est une boucle **Tant que**, ce qui peut s'écrire en pseudo-code :\n",
    "```\n",
    "Tant que condition\n",
    "     instructions à répéter si condition vraie\n",
    "Fin Tant que\n",
    "```\n",
    "\n",
    "En python, cette boucle se traduit par ```while``` "
   ]
  },
  {
   "cell_type": "code",
   "execution_count": null,
   "metadata": {},
   "outputs": [],
   "source": [
    "# trouver le reste de la division d'un nombre par 7\n",
    "def reste7(n):\n",
    "    r=n    # la variable r prend la valeur de n\n",
    "    while r>=7:     # tant que r est plus grand ou égal à 7\n",
    "        r=r-7       # on diminue r de 7\n",
    "    return r\n",
    "\n",
    "print(reste7(866))"
   ]
  },
  {
   "cell_type": "markdown",
   "metadata": {},
   "source": [
    "Exécutez le programme ci-dessus. Vérifiez le résultat affiché en faisant la division euclidienne de 866 par 7.\n",
    "\n",
    "Analysons le fonctionnement de la fonction *reste7* :\n",
    "\n",
    "```\n",
    "Fonction reste7(n):\n",
    "    r <- n\n",
    "    Tant que r>=7\n",
    "        r <- r-7\n",
    "    Fin Tant que\n",
    "    renvoyer r\n",
    "Fin Fonction\n",
    "```\n",
    "- r prend la valeur du nombre n donné en paramètre. On ne fait pas les calculs sur n pour ne pas modifier sa valeur.\n",
    "- vérification de la condition ```r>=7```\n",
    "    * si elle est vraie:\n",
    "        - l'instruction ```r <- r-7``` est exécutée\n",
    "        - nouvelle vérification de la condition ```r>=7```\n",
    "        - si elle est vraie, l'instruction ```r <- r-7``` est de nouveau exécutée, puis la condition vérifiée, etc \n",
    "    * dès que la condition est fausse, l'instruction n'est pas exécutée, la boucle est finie et c'est la suite du programme qui est exécutée.\n",
    "- la valeur de r comprise entre 0 et 6 (la condition ```r>=7``` étant fausse, alors r<7) est renvoyée et correspond bien au reste de la division du nombre n par 7.\n",
    "\n",
    "Deux conséquences :\n",
    "- Si la condition du *Tant que* est fausse dès le début, la ou les instructions de la boucle ne sont jamais exécutées.\n",
    "- Il est indispensable de s’assurer que la condition du *Tant que* finisse par être fausse (les instructions de la boucle doivent rendre fausse la condition tôt ou tard), sans quoi l’algorithme ne pourra pas fonctionner : c'est ce que l'on appelle une **boucle infinie**.\n",
    "\n",
    "Pour tester le premier point, entrez par exemple l'instruction ```print(reste7(6))``` dans la cellule ci-dessous et exécutez là."
   ]
  },
  {
   "cell_type": "code",
   "execution_count": null,
   "metadata": {},
   "outputs": [],
   "source": []
  },
  {
   "cell_type": "markdown",
   "metadata": {},
   "source": [
    "La variable r prenant la valeur 6 qui n'est pas supérieure ou égale à 7, l'instruction de la boucle n'est jamais exécutée et le résultat renvoyée correspont au nombre donné en paramètre.\n",
    "\n",
    "Nous ne testerons pas le second point, les boucles infinies pouvant provoquer des plantages d'ordinateurs même si la plupart des éditeurs python possèdent un bouton ou une commande pour stopper l'exécution d'un programme."
   ]
  }
 ],
 "metadata": {
  "kernelspec": {
   "display_name": "Python 3",
   "language": "python",
   "name": "python3"
  },
  "language_info": {
   "codemirror_mode": {
    "name": "ipython",
    "version": 3
   },
   "file_extension": ".py",
   "mimetype": "text/x-python",
   "name": "python",
   "nbconvert_exporter": "python",
   "pygments_lexer": "ipython3",
   "version": "3.6.1"
  }
 },
 "nbformat": 4,
 "nbformat_minor": 2
}
