{
 "cells": [
  {
   "cell_type": "markdown",
   "metadata": {
    "hideCode": true
   },
   "source": [
    "# Exercice : Evolution en pourcentage\n",
    "\n",
    "On possède un capital initial de 1000€. On le place sur un compte qui rapporte 5% par an.   \n",
    "**Rappel : pour augmenter une quantité de $t$%, on la multiplie par $1+\\dfrac{t}{100}$**   \n",
    "Calculez le capital au bout d'une année, au bout de 2 années et au bout de 4 années.\n",
    "\n",
    "**Le but de l'exercice est d'écrire une fonction qui, étant donné le nombre d'années n en paramètre, calcule et renvoie le capital disponible au bout de ces n années.**\n",
    "\n",
    "Exécutez la cellule ci-dessous pour commencer l'exercice et afficher des exemples de résultats attendus (ces résultats doivent être les mêmes que ceux que vous avez calculés précédemment. Refaites les calculs si besoin).\n"
   ]
  },
  {
   "cell_type": "code",
   "execution_count": null,
   "metadata": {},
   "outputs": [],
   "source": [
    "from py.evolution import exo_evolution\n",
    "\n",
    "exo_evolution.example(3)"
   ]
  },
  {
   "cell_type": "markdown",
   "metadata": {},
   "source": [
    "Complétez la fonction *capital* ci-dessous pour qu'elle réponde au problème posé (effacez et remplacez les *#à compléter*)."
   ]
  },
  {
   "cell_type": "code",
   "execution_count": null,
   "metadata": {},
   "outputs": [],
   "source": [
    "def capital(n):\n",
    "    c=#à compléter\n",
    "    for annee in range(#à compléter):\n",
    "        c=#à compléter\n",
    "    return c"
   ]
  },
  {
   "cell_type": "markdown",
   "metadata": {},
   "source": [
    "Vous pouvez utiliser la cellule ci-dessous pour tester votre fonction avec des valeurs de votre choix avant la correction (n'oubliez pas d'exécuter d'abord la cellule contenant votre fonction pour pouvoir l'utiliser)."
   ]
  },
  {
   "cell_type": "code",
   "execution_count": null,
   "metadata": {},
   "outputs": [],
   "source": []
  },
  {
   "cell_type": "markdown",
   "metadata": {},
   "source": [
    "Exécutez la cellule ci-dessous pour comparer les résultats de votre fonction avec les résultats attendus. Vous avez bon quand tout est au vert (que des OK, pas de KO).  \n",
    "Si besoin, corrigez votre fonction et relancez la vérification tant qu'il reste des résultats non attendus. "
   ]
  },
  {
   "cell_type": "code",
   "execution_count": null,
   "metadata": {},
   "outputs": [],
   "source": [
    "exo_evolution.correction(capital)"
   ]
  }
 ],
 "metadata": {
  "kernelspec": {
   "display_name": "Python 3",
   "language": "python",
   "name": "python3"
  },
  "language_info": {
   "codemirror_mode": {
    "name": "ipython",
    "version": 3
   },
   "file_extension": ".py",
   "mimetype": "text/x-python",
   "name": "python",
   "nbconvert_exporter": "python",
   "pygments_lexer": "ipython3",
   "version": "3.6.1"
  }
 },
 "nbformat": 4,
 "nbformat_minor": 2
}
