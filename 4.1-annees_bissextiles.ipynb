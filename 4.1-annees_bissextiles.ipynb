{
 "cells": [
  {
   "cell_type": "markdown",
   "metadata": {},
   "source": [
    "# Quand une année est-elle bissextile ?\n",
    "\n",
    "## Préliminaire\n",
    "\n",
    "Les critères de divisibilité:   \n",
    "* un nombre est divisible par 2 lorsque le chiffre des unités est 0, 2, 4, 6 ou 8\n",
    "* un nombre est divisible par 5 lorsque le chiffre des unités est 0 ou 5\n",
    "* un nombre est divisible par 10 lorsque le chiffre des unités est 0\n",
    "* un nombre est divisible par 4 lorsque les deux chiffres de droite forment un nombre multiple de 4\n",
    "* un nombre est divisible par 3 lorsque la somme de ses chiffres est un nombre multiple de 3\n",
    "* un nombre est divisible par 9 lorsque la somme de ses chiffres est un nombre multiple de 9\n",
    "\n",
    "*question* : Les nombres suivants sont-ils divisibles par 2? 3? 4? 5? 9? 10? : 120 - 57 376 - 12 345 678 - 111201"
   ]
  },
  {
   "cell_type": "markdown",
   "metadata": {},
   "source": [
    "**Dire qu'un nombre a est divisible par un nombre b signifie que le reste de la division euclidienne de a par b est égal à 0.**   \n",
    "En python ce reste s'obtient avec la commande %. Le reste de la division euclidienne de a par b s'obtient donc par a%b.\n",
    "\n",
    "La fonction ci-dessous teste si le nombre entré en paramètre est divisible par 3 ou non:"
   ]
  },
  {
   "cell_type": "code",
   "execution_count": null,
   "metadata": {},
   "outputs": [],
   "source": [
    "def divisible3(nombre):\n",
    "    if nombre%3==0:    # teste si le reste est égal à 0\n",
    "        return True    # divisible par 3\n",
    "    else:\n",
    "        return False   # pas divisible par 3\n",
    "\n",
    "print(divisible3(1876))\n",
    "print(divisible3(2022))"
   ]
  },
  {
   "cell_type": "markdown",
   "metadata": {},
   "source": [
    "**Le but est d'écrire une fonction qui, étant donné deux nombres a et b en paramètres, renvoie True si a est divisible par b, False sinon.**\n",
    "\n",
    "Exécutez la cellule ci-dessous pour afficher des exemples de résultats attendus."
   ]
  },
  {
   "cell_type": "code",
   "execution_count": null,
   "metadata": {},
   "outputs": [],
   "source": [
    "from py.divisibilite import exo_divisibilite\n",
    "\n",
    "exo_divisibilite.example(6)"
   ]
  },
  {
   "cell_type": "markdown",
   "metadata": {},
   "source": [
    "Complétez la fonction *divisible* ci-dessous pour qu'elle réponde au problème posé (effacez et remplacez le *#à compléter*)."
   ]
  },
  {
   "cell_type": "code",
   "execution_count": null,
   "metadata": {},
   "outputs": [],
   "source": [
    "def divisible(a,b):\n",
    "    if #à compléter:    \n",
    "        return True    # a divisible par b\n",
    "    else:\n",
    "        return False   # a pas divisible par b"
   ]
  },
  {
   "cell_type": "markdown",
   "metadata": {},
   "source": [
    "Exécutez la cellule ci-dessous pour comparer les résultats de votre fonction avec les résultats attendus. Vous avez bon quand tout est au vert (que des OK, pas de KO).  \n",
    "Si besoin, corrigez votre fonction et relancez la vérification tant qu'il reste des résultats non attendus. "
   ]
  },
  {
   "cell_type": "code",
   "execution_count": null,
   "metadata": {},
   "outputs": [],
   "source": [
    "exo_divisibilite.correction(divisible)"
   ]
  },
  {
   "cell_type": "markdown",
   "metadata": {},
   "source": [
    "## Année bissextile\n",
    "\n",
    "Une année est bissextile si:\n",
    "* elle est divisible par 4 mais pas par 100\n",
    "* ou alors elle est divisible par 400\n",
    "\n",
    "Ces conditions peuvent être symbolisées par l'algorithme suivant:\n",
    "![algorithme](images/algo_bissextile.png)\n",
    "\n",
    "*question* : Les années suivantes sont-elles bissextiles ? 1996 - 1534 - 1900 - 2000"
   ]
  },
  {
   "cell_type": "markdown",
   "metadata": {},
   "source": [
    "**Le but ici est d'écrire une fonction qui, étant donné l'année en paramètre, renvoie True si elle est bissextile, False sinon.**\n",
    "\n",
    "Exécutez la cellule ci-dessous pour afficher des exemples de résultats attendus."
   ]
  },
  {
   "cell_type": "code",
   "execution_count": null,
   "metadata": {},
   "outputs": [],
   "source": [
    "from py.bissextile import exo_bissextile\n",
    "\n",
    "exo_bissextile.example(5)"
   ]
  },
  {
   "cell_type": "markdown",
   "metadata": {},
   "source": [
    "Complétez la fonction *bissextile* ci-dessous pour qu'elle réponde au problème posé."
   ]
  },
  {
   "cell_type": "code",
   "execution_count": null,
   "metadata": {},
   "outputs": [],
   "source": [
    "def bissextile(annee):\n",
    "    #à compléter"
   ]
  },
  {
   "cell_type": "markdown",
   "metadata": {},
   "source": [
    "Exécutez la cellule ci-dessous pour comparer les résultats de votre fonction avec les résultats attendus. Vous avez bon quand tout est au vert (que des OK, pas de KO).  \n",
    "Si besoin, corrigez votre fonction et relancez la vérification tant qu'il reste des résultats non attendus. "
   ]
  },
  {
   "cell_type": "code",
   "execution_count": null,
   "metadata": {},
   "outputs": [],
   "source": [
    "exo_bissextile.correction(bissextile)"
   ]
  }
 ],
 "metadata": {
  "kernelspec": {
   "display_name": "Python 3",
   "language": "python",
   "name": "python3"
  },
  "language_info": {
   "codemirror_mode": {
    "name": "ipython",
    "version": 3
   },
   "file_extension": ".py",
   "mimetype": "text/x-python",
   "name": "python",
   "nbconvert_exporter": "python",
   "pygments_lexer": "ipython3",
   "version": "3.6.1"
  }
 },
 "nbformat": 4,
 "nbformat_minor": 2
}
